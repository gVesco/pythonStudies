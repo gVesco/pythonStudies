{
 "cells": [
  {
   "cell_type": "code",
   "execution_count": 2,
   "metadata": {},
   "outputs": [
    {
     "name": "stdout",
     "output_type": "stream",
     "text": [
      "Digite um número inteiro: \n",
      "10\n"
     ]
    }
   ],
   "source": [
    "# Exercício 1\n",
    "print(\"Digite um número inteiro: \")\n",
    "numInt = int(input())\n",
    "print(numInt)"
   ]
  },
  {
   "cell_type": "code",
   "execution_count": 3,
   "metadata": {},
   "outputs": [
    {
     "name": "stdout",
     "output_type": "stream",
     "text": [
      "Digite um número real: \n",
      "2.0\n"
     ]
    }
   ],
   "source": [
    "# Exercício 2\n",
    "print(\"Digite um número real: \")\n",
    "numReal = float(input())\n",
    "print(numReal)"
   ]
  },
  {
   "cell_type": "code",
   "execution_count": null,
   "metadata": {},
   "outputs": [],
   "source": [
    "# Exercício 3\n",
    "print(\"Digite três números para somá-los: \")\n",
    "num1 = float(input())\n",
    "num2 = float(input())\n",
    "num3 = float(input())\n",
    "soma = num1 + num2 + num3\n",
    "print(\"A soma dos valores é\", soma)"
   ]
  },
  {
   "cell_type": "code",
   "execution_count": null,
   "metadata": {},
   "outputs": [],
   "source": [
    "# Exercício 4\n",
    "print(\"Digite um número para calcular o quadrado dele: \")\n",
    "numQuad = float(input())\n",
    "numQuad = numQuad * numQuad\n",
    "print(\"O quadrado do número é\", numQuad)"
   ]
  },
  {
   "cell_type": "code",
   "execution_count": null,
   "metadata": {},
   "outputs": [],
   "source": [
    "# Exercício 5\n",
    "print(\"Digite um número para calcular a quinta parte deste: \")\n",
    "numQuinta = float(input())\n",
    "numQuinta = numQuinta / 5\n",
    "print(\"A quinta parte do número é\", numQuinta)"
   ]
  },
  {
   "cell_type": "code",
   "execution_count": null,
   "metadata": {},
   "outputs": [],
   "source": [
    "# Exercício 6\n",
    "print(\"Digite a temperatura em Celsius para converter em Fahrenheit: \")\n",
    "tempC = float(input())\n",
    "tempF = tempC * (9/5) + 32\n",
    "print(\"A temperatura em Fahrenheit é\", tempF)"
   ]
  },
  {
   "cell_type": "code",
   "execution_count": null,
   "metadata": {},
   "outputs": [],
   "source": [
    "# Exercício 7\n",
    "print(\"Digite a temperatura em Fahrenheit para converter em Celsius: \")\n",
    "tempF = float(input())\n",
    "tempC = 5 * (tempF - 32) / 9\n",
    "print(\"A temperatura em Celsius é\", tempC)"
   ]
  },
  {
   "cell_type": "code",
   "execution_count": null,
   "metadata": {},
   "outputs": [],
   "source": [
    "# Exercício 8\n",
    "print(\"Digite a temperatura em graus Kelvin para converter em Celsius: \")\n",
    "tempK = float(input())\n",
    "tempC = tempK - 273.15\n",
    "print(\"A temperatura em graus Celsius é\", tempC)"
   ]
  },
  {
   "cell_type": "code",
   "execution_count": null,
   "metadata": {},
   "outputs": [],
   "source": [
    "# Exercício 9\n",
    "print(\"Digite a temperatura em graus Celsius para converter em Kelvin: \")\n",
    "tempC = float(input())\n",
    "tempK = tempC + 273.15\n",
    "print(\"A temperatura em graus Kelvin é\", tempK)"
   ]
  },
  {
   "cell_type": "code",
   "execution_count": null,
   "metadata": {},
   "outputs": [],
   "source": [
    "# Exercício 10\n",
    "print(\"Digite a velocidade em Km/h para converter em m/s\")\n",
    "velKm = float(input())\n",
    "velM  = velKm / 3.6\n",
    "print(\"Velocidade em m/s\", velM)"
   ]
  },
  {
   "cell_type": "code",
   "execution_count": null,
   "metadata": {},
   "outputs": [],
   "source": [
    "# Exercício 11\n",
    "print(\"Digite uma velocidade em m/s para converter em Km/h\")\n",
    "velM = float(input())\n",
    "velKm = velM * 3.6\n",
    "print(\"A velocidade em Km/h é\", velKm)"
   ]
  },
  {
   "cell_type": "code",
   "execution_count": null,
   "metadata": {},
   "outputs": [],
   "source": [
    "# Exercício 12\n",
    "print(\"Digite a distância em milhas para converter em Km\")\n",
    "distMi = float(input())\n",
    "distKm = distMi * 1.61\n",
    "print(f\"A distância {distMi} mi corresponde a {distKm} em Km\")"
   ]
  },
  {
   "cell_type": "code",
   "execution_count": null,
   "metadata": {},
   "outputs": [],
   "source": [
    "# Exercício 13\n",
    "print(\"Digite o valor da distância em Km para que seja convertida em milhas\")\n",
    "distKm = float(input())\n",
    "distMi = distKm / 1.61\n",
    "print(f\"A distância {distKm} corresponde a {distMi} em milhas\")"
   ]
  },
  {
   "cell_type": "code",
   "execution_count": null,
   "metadata": {},
   "outputs": [],
   "source": [
    "# Exercício 14\n",
    "print(\"Digite um ângulo em graus para que seja convertido em radianos\")\n",
    "vlrPi     = 3.14159265359\n",
    "angGraus  = float(input())\n",
    "angRadian = angGraus * vlrPi / 180\n",
    "print(f\"O ângulo {angGraus} em graus corresponde a {angRadian} convertido em radiano\")\n"
   ]
  },
  {
   "cell_type": "code",
   "execution_count": null,
   "metadata": {},
   "outputs": [],
   "source": [
    "# Exercício 15\n",
    "print(\"Digite um ângulo em radianos para que seja convertido em graus\")\n",
    "vlrPi     = 3.14159265359\n",
    "angRadian = float(input())\n",
    "angGraus  = angRadian * 180 / 3.14\n",
    "print(f\"O ângulo {angRadian} em radiano corresponde a {angGraus} convertido em graus\")\n"
   ]
  },
  {
   "cell_type": "code",
   "execution_count": 4,
   "metadata": {},
   "outputs": [
    {
     "name": "stdout",
     "output_type": "stream",
     "text": [
      "Digite o valor do comprimento em polegadas para que seja convertido em centímetros\n",
      "O comprimento 10.0 em polegadas corresponde a 25.4 em centímetros\n"
     ]
    }
   ],
   "source": [
    "# Exercício 16\n",
    "print(\"Digite o valor do comprimento em polegadas para que seja convertido em centímetros\")\n",
    "compPol  = float(input())\n",
    "compCent = compPol * 2.54\n",
    "print(f\"O comprimento {compPol} em polegadas corresponde a {compCent} em centímetros\")\n"
   ]
  },
  {
   "cell_type": "code",
   "execution_count": null,
   "metadata": {},
   "outputs": [],
   "source": [
    "# Exercício 17\n",
    "print(\"Digite o valor do comprimento em centímetros para que seja convertido em polegadas\")\n",
    "compCent = float(input())\n",
    "compPol  = compCent / 2.54\n",
    "print(f\"O comprimento {compCent} em centímetros corresponde a {compPol} em polegadas\")\n"
   ]
  },
  {
   "cell_type": "code",
   "execution_count": null,
   "metadata": {},
   "outputs": [],
   "source": [
    "# Exercício 18\n",
    "print(\"Digite o valor em metros cúbicos para ser convertido em litros\")\n",
    "valMetro = float(input())\n",
    "valLitro  = valMetro * 1000\n",
    "print(f\"O valor digitado corresponde a {valLitro} litros\")\n"
   ]
  },
  {
   "cell_type": "code",
   "execution_count": null,
   "metadata": {},
   "outputs": [],
   "source": [
    "# Exercício 19\n",
    "print(\"Digite o valor em litros para ser convertido em metros cúbicos\")\n",
    "valLitro = float(input())\n",
    "valMetro  = valLitro / 1000\n",
    "print(f\"O valor digitado corresponde a {valMetro} metros cúbicos\")\n",
    "\n"
   ]
  },
  {
   "cell_type": "code",
   "execution_count": null,
   "metadata": {},
   "outputs": [],
   "source": [
    "# Exercício 20"
   ]
  },
  {
   "cell_type": "code",
   "execution_count": null,
   "metadata": {},
   "outputs": [],
   "source": [
    "# Exercício 21"
   ]
  },
  {
   "cell_type": "code",
   "execution_count": null,
   "metadata": {},
   "outputs": [],
   "source": [
    "# Exercício 22"
   ]
  },
  {
   "cell_type": "code",
   "execution_count": null,
   "metadata": {},
   "outputs": [],
   "source": [
    "# Exercício 23"
   ]
  },
  {
   "cell_type": "code",
   "execution_count": null,
   "metadata": {},
   "outputs": [],
   "source": [
    "# Exercício 24"
   ]
  },
  {
   "cell_type": "code",
   "execution_count": null,
   "metadata": {},
   "outputs": [],
   "source": [
    "# Exercício 25"
   ]
  },
  {
   "cell_type": "code",
   "execution_count": null,
   "metadata": {},
   "outputs": [],
   "source": [
    "# Exercício 26"
   ]
  },
  {
   "cell_type": "code",
   "execution_count": null,
   "metadata": {},
   "outputs": [],
   "source": [
    "# Exercício 27"
   ]
  },
  {
   "cell_type": "code",
   "execution_count": null,
   "metadata": {},
   "outputs": [],
   "source": [
    "# Exercício 28"
   ]
  },
  {
   "cell_type": "code",
   "execution_count": null,
   "metadata": {},
   "outputs": [],
   "source": [
    "# Exercício 29"
   ]
  },
  {
   "cell_type": "code",
   "execution_count": null,
   "metadata": {},
   "outputs": [],
   "source": [
    "# Exercício 30"
   ]
  },
  {
   "cell_type": "code",
   "execution_count": null,
   "metadata": {},
   "outputs": [],
   "source": [
    "# Exercício 31"
   ]
  },
  {
   "cell_type": "code",
   "execution_count": null,
   "metadata": {},
   "outputs": [],
   "source": [
    "# Exercício 32"
   ]
  },
  {
   "cell_type": "code",
   "execution_count": null,
   "metadata": {},
   "outputs": [],
   "source": [
    "# Exercício 33"
   ]
  },
  {
   "cell_type": "code",
   "execution_count": null,
   "metadata": {},
   "outputs": [],
   "source": [
    "# Exercício 34"
   ]
  },
  {
   "cell_type": "code",
   "execution_count": null,
   "metadata": {},
   "outputs": [],
   "source": [
    "# Exercício 35"
   ]
  },
  {
   "cell_type": "code",
   "execution_count": null,
   "metadata": {},
   "outputs": [],
   "source": [
    "# Exercício 36"
   ]
  },
  {
   "cell_type": "code",
   "execution_count": null,
   "metadata": {},
   "outputs": [],
   "source": [
    "# Exercício 37"
   ]
  },
  {
   "cell_type": "code",
   "execution_count": null,
   "metadata": {},
   "outputs": [],
   "source": [
    "# Exercício 38"
   ]
  },
  {
   "cell_type": "code",
   "execution_count": null,
   "metadata": {},
   "outputs": [],
   "source": [
    "# Exercício 39"
   ]
  },
  {
   "cell_type": "code",
   "execution_count": null,
   "metadata": {},
   "outputs": [],
   "source": [
    "# Exercício 40"
   ]
  },
  {
   "cell_type": "code",
   "execution_count": null,
   "metadata": {},
   "outputs": [],
   "source": [
    "# Exercício 41"
   ]
  },
  {
   "cell_type": "code",
   "execution_count": null,
   "metadata": {},
   "outputs": [],
   "source": [
    "# Exercício 42"
   ]
  },
  {
   "cell_type": "code",
   "execution_count": null,
   "metadata": {},
   "outputs": [],
   "source": [
    "# Exercício 43"
   ]
  },
  {
   "cell_type": "code",
   "execution_count": null,
   "metadata": {},
   "outputs": [],
   "source": [
    "# Exercício 44"
   ]
  },
  {
   "cell_type": "code",
   "execution_count": null,
   "metadata": {},
   "outputs": [],
   "source": [
    "# Exercício 45"
   ]
  },
  {
   "cell_type": "code",
   "execution_count": null,
   "metadata": {},
   "outputs": [],
   "source": [
    "# Exercício 46"
   ]
  },
  {
   "cell_type": "code",
   "execution_count": null,
   "metadata": {},
   "outputs": [],
   "source": [
    "# Exercício 47"
   ]
  },
  {
   "cell_type": "code",
   "execution_count": null,
   "metadata": {},
   "outputs": [],
   "source": [
    "# Exercício 48"
   ]
  },
  {
   "cell_type": "code",
   "execution_count": null,
   "metadata": {},
   "outputs": [],
   "source": [
    "# Exercício 49"
   ]
  },
  {
   "cell_type": "code",
   "execution_count": null,
   "metadata": {},
   "outputs": [],
   "source": [
    "# Exercício 50"
   ]
  },
  {
   "cell_type": "code",
   "execution_count": null,
   "metadata": {},
   "outputs": [],
   "source": [
    "# Exercício 51"
   ]
  },
  {
   "cell_type": "code",
   "execution_count": null,
   "metadata": {},
   "outputs": [],
   "source": [
    "# Exercício 52"
   ]
  },
  {
   "cell_type": "code",
   "execution_count": null,
   "metadata": {},
   "outputs": [],
   "source": [
    "# Exercício 53"
   ]
  }
 ],
 "metadata": {
  "kernelspec": {
   "display_name": "Python 3.11.0 64-bit",
   "language": "python",
   "name": "python3"
  },
  "language_info": {
   "codemirror_mode": {
    "name": "ipython",
    "version": 3
   },
   "file_extension": ".py",
   "mimetype": "text/x-python",
   "name": "python",
   "nbconvert_exporter": "python",
   "pygments_lexer": "ipython3",
   "version": "3.11.0"
  },
  "orig_nbformat": 4,
  "vscode": {
   "interpreter": {
    "hash": "397ab661ace663f8f8b7e83c394184164cd6c1add06eb43bc2e90612e7a96001"
   }
  }
 },
 "nbformat": 4,
 "nbformat_minor": 2
}
