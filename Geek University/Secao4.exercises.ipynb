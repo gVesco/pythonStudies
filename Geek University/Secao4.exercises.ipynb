{
 "cells": [
  {
   "cell_type": "code",
   "execution_count": null,
   "metadata": {},
   "outputs": [],
   "source": [
    "# Exercício 1\n",
    "print(\"Digite um número inteiro: \")\n",
    "numInt = int(input())\n",
    "print(numInt)"
   ]
  },
  {
   "cell_type": "code",
   "execution_count": null,
   "metadata": {},
   "outputs": [],
   "source": [
    "# Exercício 2\n",
    "print(\"Digite um número real: \")\n",
    "numReal = float(input())\n",
    "print(numReal)"
   ]
  },
  {
   "cell_type": "code",
   "execution_count": null,
   "metadata": {},
   "outputs": [],
   "source": [
    "# Exercício 3\n",
    "print(\"Digite três números para somá-los: \")\n",
    "num1 = float(input())\n",
    "num2 = float(input())\n",
    "num3 = float(input())\n",
    "soma = num1 + num2 + num3\n",
    "print(\"A soma dos valores é\", soma)"
   ]
  },
  {
   "cell_type": "code",
   "execution_count": null,
   "metadata": {},
   "outputs": [],
   "source": [
    "# Exercício 4\n",
    "print(\"Digite um número para calcular o quadrado dele: \")\n",
    "numQuad = float(input())\n",
    "numQuad = numQuad * numQuad\n",
    "print(\"O quadrado do número é\", numQuad)"
   ]
  },
  {
   "cell_type": "code",
   "execution_count": null,
   "metadata": {},
   "outputs": [],
   "source": [
    "# Exercício 5\n",
    "print(\"Digite um número para calcular a quinta parte deste: \")\n",
    "numQuinta = float(input())\n",
    "numQuinta = numQuinta / 5\n",
    "print(\"A quinta parte do número é\", numQuinta)"
   ]
  },
  {
   "cell_type": "code",
   "execution_count": null,
   "metadata": {},
   "outputs": [],
   "source": [
    "# Exercício 6\n",
    "print(\"Digite a temperatura em Celsius para converter em Fahrenheit: \")\n",
    "tempC = float(input())\n",
    "tempF = tempC * (9/5) + 32\n",
    "print(\"A temperatura em Fahrenheit é\", tempF)"
   ]
  },
  {
   "cell_type": "code",
   "execution_count": null,
   "metadata": {},
   "outputs": [],
   "source": [
    "# Exercício 7\n",
    "print(\"Digite a temperatura em Fahrenheit para converter em Celsius: \")\n",
    "tempF = float(input())\n",
    "tempC = 5 * (tempF - 32) / 9\n",
    "print(\"A temperatura em Celsius é\", tempC)"
   ]
  },
  {
   "cell_type": "code",
   "execution_count": null,
   "metadata": {},
   "outputs": [],
   "source": [
    "# Exercício 8\n",
    "print(\"Digite a temperatura em graus Kelvin para converter em Celsius: \")\n",
    "tempK = float(input())\n",
    "tempC = tempK - 273.15\n",
    "print(\"A temperatura em graus Celsius é\", tempC)"
   ]
  },
  {
   "cell_type": "code",
   "execution_count": null,
   "metadata": {},
   "outputs": [],
   "source": [
    "# Exercício 9\n",
    "print(\"Digite a temperatura em graus Celsius para converter em Kelvin: \")\n",
    "tempC = float(input())\n",
    "tempK = tempC + 273.15\n",
    "print(\"A temperatura em graus Kelvin é\", tempK)"
   ]
  },
  {
   "cell_type": "code",
   "execution_count": null,
   "metadata": {},
   "outputs": [],
   "source": [
    "# Exercício 10\n",
    "print(\"Digite a velocidade em Km/h para converter em m/s\")\n",
    "velKm = float(input())\n",
    "velM  = velKm / 3.6\n",
    "print(\"Velocidade em m/s\", velM)"
   ]
  },
  {
   "cell_type": "code",
   "execution_count": null,
   "metadata": {},
   "outputs": [],
   "source": [
    "# Exercício 11\n",
    "print(\"Digite uma velocidade em m/s para converter em Km/h\")\n",
    "velM = float(input())\n",
    "velKm = velM * 3.6\n",
    "print(\"A velocidade em Km/h é\", velKm)"
   ]
  },
  {
   "cell_type": "code",
   "execution_count": null,
   "metadata": {},
   "outputs": [],
   "source": [
    "# Exercício 12\n",
    "print(\"Digite a distância em milhas para converter em Km\")\n",
    "distMi = float(input())\n",
    "distKm = distMi * 1.61\n",
    "print(f\"A distância {distMi} mi corresponde a {distKm} em Km\")"
   ]
  },
  {
   "cell_type": "code",
   "execution_count": null,
   "metadata": {},
   "outputs": [],
   "source": [
    "# Exercício 13\n",
    "print(\"Digite o valor da distância em Km para que seja convertida em milhas\")\n",
    "distKm = float(input())\n",
    "distMi = distKm / 1.61\n",
    "print(f\"A distância {distKm} corresponde a {distMi} em milhas\")"
   ]
  },
  {
   "cell_type": "code",
   "execution_count": null,
   "metadata": {},
   "outputs": [],
   "source": [
    "# Exercício 14\n",
    "print(\"Digite um ângulo em graus para que seja convertido em radianos\")\n",
    "vlrPi     = 3.14159265359\n",
    "angGraus  = float(input())\n",
    "angRadian = angGraus * vlrPi / 180\n",
    "print(f\"O ângulo {angGraus} em graus corresponde a {angRadian} convertido em radiano\")\n"
   ]
  },
  {
   "cell_type": "code",
   "execution_count": null,
   "metadata": {},
   "outputs": [],
   "source": [
    "# Exercício 15\n",
    "print(\"Digite um ângulo em radianos para que seja convertido em graus\")\n",
    "vlrPi     = 3.14159265359\n",
    "angRadian = float(input())\n",
    "angGraus  = angRadian * 180 / 3.14\n",
    "print(f\"O ângulo {angRadian} em radiano corresponde a {angGraus} convertido em graus\")\n"
   ]
  },
  {
   "cell_type": "code",
   "execution_count": null,
   "metadata": {},
   "outputs": [],
   "source": [
    "# Exercício 16\n",
    "print(\"Digite o valor do comprimento em polegadas para que seja convertido em centímetros\")\n",
    "compPol  = float(input())\n",
    "compCent = compPol * 2.54\n",
    "print(f\"O comprimento {compPol} em polegadas corresponde a {compCent} em centímetros\")\n"
   ]
  },
  {
   "cell_type": "code",
   "execution_count": null,
   "metadata": {},
   "outputs": [],
   "source": [
    "# Exercício 17\n",
    "print(\"Digite o valor do comprimento em centímetros para que seja convertido em polegadas\")\n",
    "compCent = float(input())\n",
    "compPol  = compCent / 2.54\n",
    "print(f\"O comprimento {compCent} em centímetros corresponde a {compPol} em polegadas\")\n"
   ]
  },
  {
   "cell_type": "code",
   "execution_count": null,
   "metadata": {},
   "outputs": [],
   "source": [
    "# Exercício 18\n",
    "print(\"Digite o valor em metros cúbicos para ser convertido em litros\")\n",
    "valMetro = float(input())\n",
    "valLitro  = valMetro * 1000\n",
    "print(f\"O valor digitado corresponde a {valLitro} litros\")\n"
   ]
  },
  {
   "cell_type": "code",
   "execution_count": null,
   "metadata": {},
   "outputs": [],
   "source": [
    "# Exercício 19\n",
    "print(\"Digite o valor em litros para ser convertido em metros cúbicos\")\n",
    "valLitro = float(input())\n",
    "valMetro  = valLitro / 1000\n",
    "print(f\"O valor digitado corresponde a {valMetro} metros cúbicos\")\n",
    "\n"
   ]
  },
  {
   "cell_type": "code",
   "execution_count": null,
   "metadata": {},
   "outputs": [],
   "source": [
    "# Exercício 20\n",
    "print(\"Digite um valor em Kg para que seja convertido em libras\")\n",
    "valKg = float(input())\n",
    "valLb = valKg / 0.45\n",
    "print(f\"O peso convertido corresponde a {valLb} libras.\")"
   ]
  },
  {
   "cell_type": "code",
   "execution_count": null,
   "metadata": {},
   "outputs": [],
   "source": [
    "# Exercício 21\n",
    "print(\"Digite um valor em libras para que seja convertido em quilogramas\")\n",
    "valLb = float(input())\n",
    "ValKg = valLb * 0.45\n",
    "print(f\"O peso convertido corresponde a {valKg} quilogramas.\")"
   ]
  },
  {
   "cell_type": "code",
   "execution_count": null,
   "metadata": {},
   "outputs": [],
   "source": [
    "# Exercício 22\n",
    "print(\"Digite o valor do comprimento em jardas para que seja convertido em metros\")\n",
    "compJar = float(input())\n",
    "compMet = compJar * 0.91\n",
    "print(f\"O comprimento convertido corresponde a {compMet} metros.\")"
   ]
  },
  {
   "cell_type": "code",
   "execution_count": null,
   "metadata": {},
   "outputs": [],
   "source": [
    "# Exercício 23\n",
    "print(\"Digite o comprimento em metros para que seja convertido em jardas\")\n",
    "compMe = float(input())\n",
    "compJa = compMe / 0.91\n",
    "print(f\"O comprimento convertido corresponde a {compJa} jardas.\")"
   ]
  },
  {
   "cell_type": "code",
   "execution_count": null,
   "metadata": {},
   "outputs": [],
   "source": [
    "# Exercício 24\n",
    "print(\"Digite uma área em metros quadrados para converter em acres\")\n",
    "areaMe = float(input())\n",
    "areaAc = areaMe * 0.000247\n",
    "print(f\"A área convertida corresponde a {areaAc} acres.\")"
   ]
  },
  {
   "cell_type": "code",
   "execution_count": null,
   "metadata": {},
   "outputs": [],
   "source": [
    "# Exercício 25\n",
    "print(\"Digite um valor em acres para converter em metros quadrados\")\n",
    "areaAc = float(input())\n",
    "areaMe = areaAc * 4048.58\n",
    "print(f\"A área convertida corresponde a {areaMe} metros quadrados.\")4"
   ]
  },
  {
   "cell_type": "code",
   "execution_count": null,
   "metadata": {},
   "outputs": [],
   "source": [
    "# Exercício 26\n",
    "print(\"Digite um valor em metros quadrados para converter em hectares\")\n",
    "areaMe = float(input())\n",
    "areaHe = areaMe * 0.0001\n",
    "print(f\"A área convertida corresponde a {areaHe} hectares.\")"
   ]
  },
  {
   "cell_type": "code",
   "execution_count": null,
   "metadata": {},
   "outputs": [],
   "source": [
    "# Exercício 27\n",
    "print(\"Digite um valor em hectares para converter em metros quadrados\")\n",
    "areaHe = float(input())\n",
    "areaMe = areaHe * 10000\n",
    "print(f\"A área convertida corresponde a {areaMe} metros quadrados.\")"
   ]
  },
  {
   "cell_type": "code",
   "execution_count": null,
   "metadata": {},
   "outputs": [],
   "source": [
    "# Exercício 28\n",
    "print(\"Insira três valores para que seja calculado a soma do quadrado dos três\")\n",
    "val1 = float(input())\n",
    "val2 = float(input())\n",
    "val3 = float(input())\n",
    "resultado = (val1 ** 2) + (val2 ** 2) + (val3 ** 2)\n",
    "print(f\"O resultado da soma do quadrado dos três valores é {resultado}\")"
   ]
  },
  {
   "cell_type": "code",
   "execution_count": null,
   "metadata": {},
   "outputs": [],
   "source": [
    "# Exercício 29\n",
    "print(\"Insira quatro notas para que seja calculada a média aritmética\")\n",
    "nota1 = float(input())\n",
    "nota2 = float(input())\n",
    "nota3 = float(input())\n",
    "nota4 = float(input())\n",
    "media = (nota1 + nota2 + nota3 + nota4) / 4\n",
    "print(f\"A média aritmética é {media} para as notas inseridas\")"
   ]
  },
  {
   "cell_type": "code",
   "execution_count": null,
   "metadata": {},
   "outputs": [],
   "source": [
    "# Exercício 30\n",
    "# Leia um valor em real e a cotação do dólar. Em seguida, imprima o valor correspondente em dólares.\n",
    "print(\"Insira um valor em reais para que seja convertido em dólares\")\n",
    "vlrreal = float(imput())\n",
    "print(\"Insira o valor da cotação do dólar\")\n",
    "vlrdolar = float(input())\n",
    "vlrconvertido = vlrreal / vlrdolar\n",
    "print(f\"O valor convertido em dólares é {vlrconvertido}\")"
   ]
  },
  {
   "cell_type": "code",
   "execution_count": null,
   "metadata": {},
   "outputs": [],
   "source": [
    "# Exercício 31\n",
    "# Leia um número inteiro e imprima o seu antecessor e o seu sucessor.\n",
    "print(\"Insira um número inteiro para que seja exibido o seu antecessor e sucessor\")\n",
    "num = int(input())\n",
    "numAnt = num - 1\n",
    "numSuc = num + 1\n",
    "print(f\"O número inserido é {num} e seu antecessor é {numAnt} e seu sucessor é {numSuc}\")"
   ]
  },
  {
   "cell_type": "code",
   "execution_count": null,
   "metadata": {},
   "outputs": [],
   "source": [
    "# Exercício 32\n",
    "# Leia um número inteiro e imprima a soma do sucessor de seu triplo com o antecessor de seu dobro.\n",
    "print(\"Insira um número inteiro para que seja exibido a soma do sucessor de seu triplo com o antecessor de seu dobro\")\n",
    "num = int(input())\n",
    "numSuc = (num * 3) + 1\n",
    "numAnt = (num * 2) - 1\n",
    "numFinal = numSuc + numAnt\n",
    "print(f\"O número inserido foi {num}, o sucessor do seu triplo é {numSuc},\")\n",
    "print(f\"o antecessor do seu dobro é {numAnt} e a soma desses últimos valores é {numFinal}\")"
   ]
  },
  {
   "cell_type": "code",
   "execution_count": null,
   "metadata": {},
   "outputs": [],
   "source": [
    "# Exercício 33\n",
    "# Leia o tamanho do lado de um quadrado e imprima como resultado a sua área.\n",
    "print(\"Insira o tamanho do lado de um quadrado para que seja exibido a sua área\")\n",
    "lado = float(input())\n",
    "area = lado ** 2\n",
    "print(f\"A área do quadrado é {area}\")"
   ]
  },
  {
   "cell_type": "code",
   "execution_count": null,
   "metadata": {},
   "outputs": [],
   "source": [
    "# Exercício 34\n",
    "# Leia o valor do raio de um círculo e calcule e imprima a área do círculo correspondente.\n",
    "# A área do circulo é (pi) * raio^2, considere (pi) = 3.141592.\n",
    "print(\"Insira o valor do raio de um círculo para que seja exibido a sua área\")\n",
    "raio = float(input())\n",
    "area = 3.141592 * (raio ** 2)\n",
    "print(f\"A área do círculo é {area}\")"
   ]
  },
  {
   "cell_type": "code",
   "execution_count": null,
   "metadata": {},
   "outputs": [],
   "source": [
    "# Exercício 35\n",
    "# Sejam a e b os catetos de um triângulo, onde a hipotenusa é obtida pela equação: hipotenusa = raiz quadrada de (a^2 + b^2).\n",
    "# Faça um programa que receba os valores de a e b e calcule o valor da hipotenusa através da equação. Imprima o resultado dessa operação.\n",
    "print(\"Insira o valor do cateto a\")\n",
    "a = float(input())\n",
    "print(\"Insira o valor do cateto b\")\n",
    "b = float(input())\n",
    "hipotenusa = (a ** 2 + b ** 2) ** 0.5\n",
    "print(f\"A hipotenusa é {hipotenusa}\")\n"
   ]
  },
  {
   "cell_type": "code",
   "execution_count": null,
   "metadata": {},
   "outputs": [],
   "source": [
    "# Exercício 36\n",
    "# Leia a altura e o raio de um cilindro circular e imprima o volume do cilindro.\n",
    "# O volume de um cilindro circular é calculado por meio da seguinte fórmula: V = pi * raio^2 * altura, onde pi = 3.141592."
   ]
  },
  {
   "cell_type": "code",
   "execution_count": null,
   "metadata": {},
   "outputs": [],
   "source": [
    "# Exercício 37\n",
    "# Faça um programa que leia o valor de um produto e imprima o valor com desconto, tendo em vista que o desconto foi de 12%"
   ]
  },
  {
   "cell_type": "code",
   "execution_count": null,
   "metadata": {},
   "outputs": [],
   "source": [
    "# Exercício 38\n",
    "# Leia o salário de um funcionário. Calcule e imprima o valor do novo salário, sabendo que ele recebeu um aumento de 25%."
   ]
  },
  {
   "cell_type": "code",
   "execution_count": null,
   "metadata": {},
   "outputs": [],
   "source": [
    "# Exercício 39\n",
    "# A importância de R$ 780.000,00 será dividida entre três ganhadores de um concurso.\n",
    "# Sendo que da quantia total:\n",
    "# • O primeiro ganhador receberá 46%;\n",
    "# • O segundo receberá 32%;\n",
    "# •O terceiro receberá o restante;\n",
    "# Calcule e imprima a quantia ganha por cada um dos ganhadores."
   ]
  },
  {
   "cell_type": "code",
   "execution_count": null,
   "metadata": {},
   "outputs": [],
   "source": [
    "# Exercício 40\n",
    "# Uma empresa contrata um encanador a R$ 30,00 por dia. Faça um programa que solicite\n",
    "# o número de dias trabalhados pelo encanador e imprima a quantia líquida que deverá ser\n",
    "# paga, sabendo-se que são descontados 8% para imposto de renda."
   ]
  },
  {
   "cell_type": "code",
   "execution_count": null,
   "metadata": {},
   "outputs": [],
   "source": [
    "# Exercício 41\n",
    "# Faça um programa que leia o valor da hora de trabalho (em reais) e número de horas\n",
    "# no mês. Imprima o valor a ser pago ao funcionário, adicionando 10% sobre\n",
    "# o valor calculado."
   ]
  },
  {
   "cell_type": "code",
   "execution_count": null,
   "metadata": {},
   "outputs": [],
   "source": [
    "# Exercício 42\n",
    "# Receba o salário-base de um funcionário. Calcule e imprima o salário a receber, sabendo-\n",
    "# se que esse funcionário tem uma gratificação de 5% sobre o salário-base. Além disso,\n",
    "# ele paga 7% de imposto sobre o salário-base."
   ]
  },
  {
   "cell_type": "code",
   "execution_count": null,
   "metadata": {},
   "outputs": [],
   "source": [
    "# Exercício 43\n",
    "# Escreva um programa de ajuda para vendedores. A partir de um valor total lido, mostre:\n",
    "# • O total a pagar com desconto de 10%;\n",
    "# • O valor de cada parcela, no parcelamento de 3x sem juros;\n",
    "# • A comissão do no caso da venda ser a vista (5% sobre o valor com desconto)\n",
    "# • A comissão do vendedor, no caso da venda ser parcelada (5% sobre o valor total)\n"
   ]
  },
  {
   "cell_type": "code",
   "execution_count": null,
   "metadata": {},
   "outputs": [],
   "source": [
    "# Exercício 44\n",
    "# Receba a altura do degrau de uma e a altura que o usuário deseja alcançar\n",
    "# subindo a escada. Calcule e mostre quantos degraus o usuário deverá subir para atingir seu objetivo."
   ]
  },
  {
   "cell_type": "code",
   "execution_count": null,
   "metadata": {},
   "outputs": [],
   "source": [
    "# Exercício 45\n",
    "# Faça um programa para converter uma letra maiúscula em letra minúscula. Use a tabela ASCII para resolver o problema."
   ]
  },
  {
   "cell_type": "code",
   "execution_count": null,
   "metadata": {},
   "outputs": [],
   "source": [
    "# Exercício 46\n",
    "# Faça um programa que leia um número inteiro positivo de três dígitos (de 100 a 999).\n",
    "# Gere outro número formado pelos dígitos invertidos do número lido. Exemplo:\n",
    "# • NúmeroLido = 123\n",
    "# • NúmeroGerado = 321."
   ]
  },
  {
   "cell_type": "code",
   "execution_count": null,
   "metadata": {},
   "outputs": [],
   "source": [
    "# Exercício 47\n",
    "# Leia um número inteiro de 4 dígitos (de 1000 a 9999) e imprima 1 dígito por linha."
   ]
  },
  {
   "cell_type": "code",
   "execution_count": null,
   "metadata": {},
   "outputs": [],
   "source": [
    "# Exercício 48\n",
    "# Leia um valor inteiro em segundos, e imprima-o em horas, minutos e segundos."
   ]
  },
  {
   "cell_type": "code",
   "execution_count": null,
   "metadata": {},
   "outputs": [],
   "source": [
    "# Exercício 49\n",
    "# Faça um programa para leia o horário (hora, minuto e segundo) de inicio e a duração, em\n",
    "# segundos, de uma experiência biológica. O programa deve resultar com o novo horário\n",
    "# (hora, minuto e segundo) do termino da mesma."
   ]
  },
  {
   "cell_type": "code",
   "execution_count": null,
   "metadata": {},
   "outputs": [],
   "source": [
    "# Exercício 50\n",
    "# Implemente um programa que calcule o ano de nascimento de uma pessoa a partir de sua idade e do ano atual."
   ]
  },
  {
   "cell_type": "code",
   "execution_count": null,
   "metadata": {},
   "outputs": [],
   "source": [
    "# Exercício 51\n",
    "# Escreva um programa que leia as coordenadas x e y de pontos no R² e calcule sua distância da origem (0,0)."
   ]
  },
  {
   "cell_type": "code",
   "execution_count": null,
   "metadata": {},
   "outputs": [],
   "source": [
    "# Exercício 52\n",
    "# Três amigos jogaram na loteria. Caso eles ganhem, o prêmio deve ser repartido pro-\n",
    "# porcionalmente ao valor que cada deu para a realização da aposta. Faça um programa\n",
    "# que leia quanto cada apostador investiu, o valor do prêmio, e imprima quanto cada um\n",
    "# ganharia do prêmio com base no valor investido."
   ]
  },
  {
   "cell_type": "code",
   "execution_count": null,
   "metadata": {},
   "outputs": [],
   "source": [
    "# Exercício 53\n",
    "# Faça um programa para ler as dimensões de um terreno (comprimento c e largura l),\n",
    "# bem como o preço do metro de tela p. Imprima o custo para cercar este mesmo terreno com tela."
   ]
  }
 ],
 "metadata": {
  "kernelspec": {
   "display_name": "Python 3.11.0 64-bit",
   "language": "python",
   "name": "python3"
  },
  "language_info": {
   "codemirror_mode": {
    "name": "ipython",
    "version": 3
   },
   "file_extension": ".py",
   "mimetype": "text/x-python",
   "name": "python",
   "nbconvert_exporter": "python",
   "pygments_lexer": "ipython3",
   "version": "3.11.0"
  },
  "orig_nbformat": 4,
  "vscode": {
   "interpreter": {
    "hash": "397ab661ace663f8f8b7e83c394184164cd6c1add06eb43bc2e90612e7a96001"
   }
  }
 },
 "nbformat": 4,
 "nbformat_minor": 2
}
